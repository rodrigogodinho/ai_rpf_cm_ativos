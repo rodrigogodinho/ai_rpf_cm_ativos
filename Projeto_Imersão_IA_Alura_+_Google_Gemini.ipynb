{
  "nbformat": 4,
  "nbformat_minor": 0,
  "metadata": {
    "colab": {
      "provenance": []
    },
    "kernelspec": {
      "name": "python3",
      "display_name": "Python 3"
    },
    "language_info": {
      "name": "python"
    }
  },
  "cells": [
    {
      "cell_type": "code",
      "source": [
        "%pip -q install google-genai"
      ],
      "metadata": {
        "id": "UCCbECexLk_h"
      },
      "execution_count": null,
      "outputs": []
    },
    {
      "cell_type": "code",
      "source": [
        "# Configura a API Key do Google Gemini\n",
        "\n",
        "import os\n",
        "from google.colab import userdata\n",
        "\n",
        "os.environ[\"GOOGLE_API_KEY\"] = userdata.get('GOOGLE_API_KEY')"
      ],
      "metadata": {
        "id": "NfCqHo1tLk8P"
      },
      "execution_count": null,
      "outputs": []
    },
    {
      "cell_type": "code",
      "source": [
        "# Configura o cliente da SDK do Gemini\n",
        "\n",
        "from google import genai\n",
        "\n",
        "client = genai.Client()\n",
        "\n",
        "MODEL_ID_FAST = \"gemini-2.0-flash\"\n",
        "MODEL_ID_THINKING = \"gemini-2.5-flash-preview-04-17\""
      ],
      "metadata": {
        "id": "bV4w0H5TLk5g"
      },
      "execution_count": null,
      "outputs": []
    },
    {
      "cell_type": "code",
      "source": [
        "# Instalar Framework ADK de agentes do Google ################################################\n",
        "!pip install -q google-adk"
      ],
      "metadata": {
        "id": "hvZ3UnPI4jhJ"
      },
      "execution_count": null,
      "outputs": []
    },
    {
      "cell_type": "code",
      "execution_count": null,
      "metadata": {
        "id": "aePV2bdfDeoW"
      },
      "outputs": [],
      "source": [
        "from google.adk.agents import Agent\n",
        "from google.adk.runners import Runner\n",
        "from google.adk.sessions import InMemorySessionService\n",
        "from google.adk.tools import google_search\n",
        "from google.genai import types  # Para criar conteúdos (Content e Part)\n",
        "from datetime import date\n",
        "from google.colab import files # para poder selecionar arquivos de sua máquina e enviar para o colab\n",
        "import textwrap # Para formatar melhor a saída de texto\n",
        "from IPython.display import display, HTML, Markdown # Para exibir texto formatado no Colab\n",
        "import requests # Para fazer requisições HTTP\n",
        "import time\n",
        "import warnings\n",
        "\n",
        "warnings.filterwarnings(\"ignore\")"
      ]
    },
    {
      "cell_type": "code",
      "source": [
        "# Função auxiliar que envia uma mensagem para um agente via Runner e retorna a resposta final\n",
        "def call_agent(agent: Agent, contents: types.Content) -> str:\n",
        "    # Cria um serviço de sessão em memória\n",
        "    session_service = InMemorySessionService()\n",
        "    # Cria uma nova sessão (você pode personalizar os IDs conforme necessário)\n",
        "    session = session_service.create_session(app_name=agent.name, user_id=\"user1\", session_id=\"session1\")\n",
        "    # Cria um Runner para o agente\n",
        "    runner = Runner(agent=agent, app_name=agent.name, session_service=session_service)\n",
        "    # Cria o conteúdo da mensagem de entrada\n",
        "    #content = types.Content(role=\"user\", parts=[types.Part(text=message_text)])\n",
        "\n",
        "    final_response = \"\"\n",
        "    # Itera assincronamente pelos eventos retornados durante a execução do agente\n",
        "    for event in runner.run(user_id=\"user1\", session_id=\"session1\", new_message=contents):\n",
        "        if event.is_final_response():\n",
        "          for part in event.content.parts:\n",
        "            if part.text is not None:\n",
        "              final_response += part.text\n",
        "              final_response += \"\\n\"\n",
        "    return final_response"
      ],
      "metadata": {
        "id": "_xP4lWhsS5ko"
      },
      "execution_count": null,
      "outputs": []
    },
    {
      "cell_type": "code",
      "source": [
        "# Função auxiliar para exibir texto formatado em Markdown no Colab\n",
        "def to_markdown(text):\n",
        "  text = text.replace('•', '  *')\n",
        "  return Markdown(textwrap.indent(text, '> ', predicate=lambda _: True))"
      ],
      "metadata": {
        "id": "8dosiodaxfFR"
      },
      "execution_count": null,
      "outputs": []
    },
    {
      "cell_type": "code",
      "source": [
        "##########################################\n",
        "# --- Agente 1: Analisador de arquivos --- #\n",
        "##########################################\n",
        "def agente_analisador_de_arquivos(uploaded_files: dict):\n",
        "    analisador_de_arquivos = Agent(\n",
        "        name=\"agente_analisador_de_arquivos\",\n",
        "        model=MODEL_ID_THINKING,\n",
        "        instruction=\"\"\"\n",
        "        Você é um assistente de declaração de imposto de renda no Brasil e que conhece muito de ativos, como ações, fundos, FII's, ETF's e outros ativos.\n",
        "        Você tem amplo conhecimento contábil, principalmente com temas relacionados a declaração de imposto de renda pessoa física (IRPF) .\n",
        "        Você receberá uma lista de arquivos e vai processá-los identificando dados como: a data da operação, qual foi o ativo negociado, qual o valor unitário\n",
        "        e qual o valor total da operação.\n",
        "\n",
        "        Ponto muito importante sobre a informação de \"Tipo de Operação\" (coluna com título \"C/V\"), na grande maioria dos documentos de notas de corretagem é uma coluna com título \"C/V\" ,\n",
        "        onde \"C\" é para uma operação de (Compra) e \"V\" para uma operação de (Venda)\n",
        "\n",
        "        Não tente aglutinar operações, se em um mesmo arquivo existem 2 operações para o mesmo ativo, apresente 2 operações\n",
        "\n",
        "        As operações deverão aparecer ordenadas por ativo e por data, considerando como primeiro critério o ativo e segundo critério as datas, ambos os critérios de forma crescente.\n",
        "\n",
        "        Quero que apresente os dados no formato abaixo e responda de forma bem sucinta, focando apenas em dados do formato abaixo:\n",
        "        Após processar e analisar os dados você criará uma lista de dados com o sequinte formato:\n",
        "\n",
        "        Ativo 1\n",
        "          - (Data da operação) |  (C/V (tipo de operação)) | (Valor unitário) | (Quantidade negociada) | (Valor total)\n",
        "\n",
        "\n",
        "        Ativo 2\n",
        "          - (Data da operação) |  (C/V (tipo de operação)) | (Valor unitário) | (Quantidade negociada) | (Valor total)\n",
        "\n",
        "\n",
        "        Ativo 3\n",
        "          - (Data da operação) |  (C/V (tipo de operação)) | (Valor unitário) | (Quantidade negociada) | (Valor total)\n",
        "\n",
        "\n",
        "        As operações deverão aparecer ordenadas por data, do mais antigo para o mais recente.\n",
        "        \"\"\",\n",
        "        description=\"Agente que analisa arquivos de notas de corretagem\"\n",
        "    )\n",
        "\n",
        "    parts = []\n",
        "    print(\"Arquivos enviados para o Gemini:\")\n",
        "    for filename in filenames:\n",
        "      try:\n",
        "        print(f\"Nome do arquivo: {filename}\")\n",
        "        file = client.files.upload(file=filename)\n",
        "        parts.append( types.Part.from_uri(\n",
        "              file_uri=file.uri,\n",
        "              mime_type=file.mime_type,\n",
        "            )\n",
        "        )\n",
        "      except FileNotFoundError:\n",
        "        print(f\"Arquivo não encontrado: {filename}\")\n",
        "      except Exception as e:\n",
        "        print(f\"Erro ao carregar o arquivo {filename}: {e}\")\n",
        "\n",
        "\n",
        "    entrada_do_agente = types.Content(\n",
        "        role=\"user\",\n",
        "        parts=parts,\n",
        "    )\n",
        "\n",
        "    #print(entrada_do_agente)\n",
        "\n",
        "    # Executa o agente\n",
        "    operacoes = call_agent(analisador_de_arquivos, entrada_do_agente)\n",
        "    return operacoes"
      ],
      "metadata": {
        "id": "zup8CKucGrxe"
      },
      "execution_count": null,
      "outputs": []
    },
    {
      "cell_type": "code",
      "source": [
        "################################################\n",
        "# --- Agente 2: Agente que processa dados das operações--- #\n",
        "################################################\n",
        "def agente_de_processamento_de_dados_de_operacoes(operacoes):\n",
        "    agente_de_processamento_de_operacoes = Agent(\n",
        "        name=\"agente_de_processamento_de_operacoes\",\n",
        "        model=MODEL_ID_THINKING,\n",
        "        # Inserir as instruções do Agente de processamento de operações #################################################\n",
        "        instruction=\"\"\"\n",
        "        Você é um assistente de declaração de imposto de renda no Brasil. Você tem amplo conhecimento contábil, principalmente com\n",
        "        temas relacionados a declaração de imposto de renda pessoa física (IRPF). Você tem amplo conhecimento em cálculo\n",
        "        de preço médio de ativos negociados.\n",
        "\n",
        "        Você receberá uma lista de operações de compra e venda de ativos e deverá realizar o cálculo de custo médio de cada ativo.\n",
        "        Ao final do processamento gere uma lista com os ativos e seus respectivos custos médios.\n",
        "        Também apresente a quantidade e o valor total de cada ativo.\n",
        "        Quero que apresente os dados no formato abaixo:\n",
        "\n",
        "        Ativo 1\n",
        "          - Quantidade\n",
        "          - Valor total\n",
        "          - Custo médio\n",
        "\n",
        "\n",
        "        Ativo 2\n",
        "          - Quantidade\n",
        "          - Valor total\n",
        "          - Custo médio\n",
        "\n",
        "\n",
        "        Ativo 3\n",
        "          - Quantidade\n",
        "          - Valor total\n",
        "          - Custo médio\n",
        "        \"\"\",\n",
        "        description=\"Agente que processa operações realizadas\",\n",
        "    )\n",
        "\n",
        "    entrada_do_agente_de_processamento = types.Content(\n",
        "        role=\"user\",\n",
        "        parts=[\n",
        "            types.Part.from_text(text=f\"Operações:{operacoes}\"),\n",
        "        ],\n",
        "    )\n",
        "\n",
        "    # Executa o agente\n",
        "    dados_por_ativo = call_agent(agente_de_processamento_de_operacoes, entrada_do_agente_de_processamento)\n",
        "    return dados_por_ativo"
      ],
      "metadata": {
        "id": "y3VO1uo5_ghO"
      },
      "execution_count": null,
      "outputs": []
    },
    {
      "cell_type": "code",
      "source": [
        "######################################\n",
        "# --- Agente 3: Busca dados complementares, como Tickers e CNPJ da empresa --- #\n",
        "######################################\n",
        "def agente_buscador_dados_complementares(ativos):\n",
        "    buscador_dados_complementares = Agent(\n",
        "        name=\"agente_buscador_dados_complementares\",\n",
        "        model=MODEL_ID_THINKING,\n",
        "        instruction=\"\"\"\n",
        "            Você é especialista em negociar ativos na Bolsa de Valores, mas também é um especialista em declaração do IRPF,\n",
        "            você trabalha em uma importante corretora e sabe muito de ativos negociados em bolsa.\n",
        "\n",
        "            Você receberá uma lista de ativos, nesta lista tem alguns dados de cada ativo,  como uma descrição breve e quantidade, valor e preço médio.\n",
        "            Busque dados complementares, como o ticker, o CNPJ da empresa e a Razão Social utilizando a tool (google_search) e complemente a lista de ativos.\n",
        "            O ticker é uma informação muito importante, tente garantir que encontre o ticker para cada um dos ativos.\n",
        "\n",
        "            Você tem grande conhecimento, se identificou que dois ativos são representados pelo mesmo Ticker, então são o mesmo ativo, então trate eles como o mesmo ativo\n",
        "            e atualize seus dados de quantidade, valor total e preço médio.\n",
        "\n",
        "            Também inclua em cada ativo a informação de (Sugestão de descrição do bem na declaração), onde irá apresentar a descrição do bem na ficha de bens e ativos, conforme as\n",
        "            melhores práticas encontradas pela tool (google_search).\n",
        "\n",
        "            Garanta que entre os dados de um ativo e outro, no resultado, exista pelo menos 2 linhas separando eles, garantindo que os dados não vão se misturar,\n",
        "            para evitar confusão na leitura dos dados\n",
        "\n",
        "            Utilize o formato abaixo na resposta:\n",
        "            Ativo\n",
        "              - Ticker\n",
        "              - Razão Social\n",
        "              - CNPJ\n",
        "              - Descrição do bem na declaração\n",
        "              - Sugestão de descrição do bem na declaração\n",
        "              - Quantidade\n",
        "              - Valor total\n",
        "              - Custo médio\n",
        "\n",
        "\n",
        "\n",
        "            \"\"\",\n",
        "        description=\"Agente buscador de dados complementares\",\n",
        "        tools=[google_search]\n",
        "    )\n",
        "\n",
        "    entrada_do_agente_buscador_dados_complementares = types.Content(\n",
        "        role=\"user\",\n",
        "        parts=[\n",
        "            types.Part.from_text(text=f\"Ativos:{ativos}\"),\n",
        "        ],\n",
        "    )\n",
        "    # Executa o agente\n",
        "    rascunho = call_agent(buscador_dados_complementares, entrada_do_agente_buscador_dados_complementares)\n",
        "    return rascunho"
      ],
      "metadata": {
        "id": "uOqlg2TRLVh1"
      },
      "execution_count": null,
      "outputs": []
    },
    {
      "cell_type": "code",
      "source": [
        "print(\"🦁 Iniciando o cálculo de Preço Médio de seus ativos para facilitar sua declaração do IRPF 🦁\")\n",
        "print(\"-----------------------------------------------\")\n",
        "print(\"Selecione as notas de corretagem para a análise!\")\n",
        "print(\"-----------------------------------------------\")\n",
        "\n",
        "# --- Obtendo suas notas de corretagem ---\n",
        "uploaded = files.upload()\n",
        "\n",
        "for filename in uploaded:\n",
        "    print(f'O arquivo \"{filename}\" com tamanho {len(uploaded[filename])} bytes será analisado.')\n",
        "\n",
        "# --- Criando lista com nome dos arquivos ---\n",
        "filenames = []\n",
        "for filename in uploaded:\n",
        "  filenames.append(filename)\n",
        "\n",
        "# Inserir lógica do sistema de agentes ################################################\n",
        "if isinstance(filenames, list) and len(filenames) > 0:\n",
        "  print(f\"Ok, vamos começar pelo mais chato 😩, vamos processar as notas de corretagem! Mas relaxa que quem vai trabalhar é o Gemini 😎 \")\n",
        "  print(\"-----------------------------------------------\")\n",
        "  operacoes = agente_analisador_de_arquivos(uploaded)\n",
        "  print(\"📈📉 Operações encontradas pelo agente analisador de arquivos de notas de corretagem! 📈📉\")\n",
        "  display(to_markdown(operacoes))\n",
        "  print(\"-----------------------------------------------\")\n",
        "\n",
        "  print(f\"Ok, agora que sabemos quais foram as operações, vamos processar os dados para calcular o preço médio de cada ativo! 💪 🤓 🧮 ➕➖✖️➗\")\n",
        "  print(\"-----------------------------------------------\")\n",
        "  ativos = agente_de_processamento_de_dados_de_operacoes(operacoes)\n",
        "  print(\"💰 Agora já temos o preço médio de nossos ativos, quantidade e valor total, estamos quase lá! 💰\")\n",
        "  display(to_markdown(ativos))\n",
        "  print(\"-----------------------------------------------\")\n",
        "\n",
        "  print(f\"Agora vamos buscar alguns dados que ajudem na declaração de nossos Bens, como o ticker ( o \\\"código\\\" da ação ), CNPJ e outros dados.\")\n",
        "  print(\"Estamos na reta final!!! 🏁\")\n",
        "  print(\"-----------------------------------------------\")\n",
        "  ativos_com_dados_complementares = agente_buscador_dados_complementares(ativos)\n",
        "  print(\"😊 Agora tenho os dados para fazer minha declaração de IRPF! 😊\")\n",
        "  display(to_markdown(ativos_com_dados_complementares))\n",
        "  print(\"-----------------------------------------------\")\n",
        "\n",
        "  print(\"🧹 Agora vamos fazer uma limpeza e excluir os arquivos que foram enviados para o Colab, porque prezemos o ambiente limpo! 🗑️\")\n",
        "  for filename in filenames:\n",
        "    command_rm_file = f\"rm {filename}\"\n",
        "    os.system(command_rm_file)\n",
        "    print(f\"Arquivo {filename} excluído.\")\n",
        "else:\n",
        "  print(\"Você esqueceu selecionar seus arquivos de notas de corregatem!\")\n",
        "\n"
      ],
      "metadata": {
        "id": "630ummxz4myx",
        "collapsed": true
      },
      "execution_count": null,
      "outputs": []
    }
  ]
}